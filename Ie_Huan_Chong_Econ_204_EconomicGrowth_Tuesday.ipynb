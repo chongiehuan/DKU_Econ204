{
  "nbformat": 4,
  "nbformat_minor": 0,
  "metadata": {
    "colab": {
      "name": "Ie Huan Chong: Econ_204_EconomicGrowth: Tuesday.ipynb",
      "provenance": [],
      "collapsed_sections": [],
      "include_colab_link": true
    },
    "kernelspec": {
      "name": "python3",
      "display_name": "Python 3"
    }
  },
  "cells": [
    {
      "cell_type": "markdown",
      "metadata": {
        "id": "view-in-github",
        "colab_type": "text"
      },
      "source": [
        "<a href=\"https://colab.research.google.com/github/chongiehuan/DKU_Econ204/blob/main/Ie_Huan_Chong_Econ_204_EconomicGrowth_Tuesday.ipynb\" target=\"_parent\"><img src=\"https://colab.research.google.com/assets/colab-badge.svg\" alt=\"Open In Colab\"/></a>"
      ]
    },
    {
      "cell_type": "markdown",
      "metadata": {
        "id": "R7fwSVGY6qUN"
      },
      "source": [
        "**Step 1: Define the Exognous Variables**\n",
        "\n",
        "The saving rate: $s$\n",
        "\n",
        "The depreciation rate: $\\delta$\n",
        "\n",
        "The popoulation growth rate: $n$\n",
        "\n",
        "The Technology level: $A$\n",
        "\n",
        "The Initial labor level: $L(0)$\n",
        "\n",
        "The Initial capital level: $K(0)$\n",
        "\n",
        "\n",
        "\n"
      ]
    },
    {
      "cell_type": "code",
      "metadata": {
        "id": "h2Tg5n_656xi"
      },
      "source": [
        "s = 0.7\n",
        "delta = 0.1\n",
        "n=2\n",
        "A=10\n",
        "L0=50\n",
        "K0=200\n"
      ],
      "execution_count": 226,
      "outputs": []
    },
    {
      "cell_type": "code",
      "metadata": {
        "id": "NW1OJSt5uq-k",
        "outputId": "a9790903-e0e3-4425-d951-cdd4244b45bf",
        "colab": {
          "base_uri": "https://localhost:8080/"
        }
      },
      "source": [
        "k0=K0/L0\n",
        "k0"
      ],
      "execution_count": 227,
      "outputs": [
        {
          "output_type": "execute_result",
          "data": {
            "text/plain": [
              "4.0"
            ]
          },
          "metadata": {
            "tags": []
          },
          "execution_count": 227
        }
      ]
    },
    {
      "cell_type": "markdown",
      "metadata": {
        "id": "VPAThZQq7qcp"
      },
      "source": [
        "Simulate $L =L(0)*e^{nt}$"
      ]
    },
    {
      "cell_type": "code",
      "metadata": {
        "id": "SaoDi87-9Ruf"
      },
      "source": [
        "### import the package\n",
        "import numpy as np"
      ],
      "execution_count": 228,
      "outputs": []
    },
    {
      "cell_type": "code",
      "metadata": {
        "id": "tdb9YJMf8WcG"
      },
      "source": [
        "### define the function\n",
        "def L(t):\n",
        "  L=L0*np.exp(n*t)\n",
        "  return L"
      ],
      "execution_count": 229,
      "outputs": []
    },
    {
      "cell_type": "code",
      "metadata": {
        "id": "LJfz30TU9OPx",
        "outputId": "8a3e7a36-9ff7-4050-db69-39c1ebcc26c8",
        "colab": {
          "base_uri": "https://localhost:8080/"
        }
      },
      "source": [
        "### check the initial value\n",
        "L(0)"
      ],
      "execution_count": 230,
      "outputs": [
        {
          "output_type": "execute_result",
          "data": {
            "text/plain": [
              "50.0"
            ]
          },
          "metadata": {
            "tags": []
          },
          "execution_count": 230
        }
      ]
    },
    {
      "cell_type": "code",
      "metadata": {
        "id": "bsGDSnAI-Hn0"
      },
      "source": [
        "t = np.linspace(0, 10)\n",
        "L=L(t)\n"
      ],
      "execution_count": 231,
      "outputs": []
    },
    {
      "cell_type": "code",
      "metadata": {
        "id": "rnmjtT3Elw5_",
        "outputId": "afb36bdd-4894-4e02-e049-d01c9b92187e",
        "colab": {
          "base_uri": "https://localhost:8080/",
          "height": 276
        }
      },
      "source": [
        "### plot the function\n",
        "import matplotlib.pyplot as plt\n",
        "\n",
        "plt.plot(t, L)\n",
        "plt.show()"
      ],
      "execution_count": 232,
      "outputs": [
        {
          "output_type": "display_data",
          "data": {
            "image/png": "[encoded data removed]",
            "text/plain": [
              "<Figure size 432x288 with 1 Axes>"
            ]
          },
          "metadata": {
            "tags": [],
            "needs_background": "light"
          }
        }
      ]
    },
    {
      "cell_type": "code",
      "metadata": {
        "id": "--_1nI2I9gBB",
        "outputId": "a4982883-a14a-431b-f5a5-008c4764fc52",
        "colab": {
          "base_uri": "https://localhost:8080/",
          "height": 265
        }
      },
      "source": [
        "### plot the function with yscale in \"log\"\n",
        "import matplotlib.pyplot as plt\n",
        "\n",
        "plt.plot(t, L)\n",
        "plt.yscale(\"log\")\n",
        "plt.show()"
      ],
      "execution_count": 233,
      "outputs": [
        {
          "output_type": "display_data",
          "data": {
            "image/png": "[encoded data removed]",
            "text/plain": [
              "<Figure size 432x288 with 1 Axes>"
            ]
          },
          "metadata": {
            "tags": [],
            "needs_background": "light"
          }
        }
      ]
    },
    {
      "cell_type": "markdown",
      "metadata": {
        "id": "pQmEzhw57mXG"
      },
      "source": [
        "**Step 2: Plot the Production Function**\n",
        "\n",
        "$y=A*k^{\\beta}$\n"
      ]
    },
    {
      "cell_type": "code",
      "metadata": {
        "id": "6XZXXKP0uH4A"
      },
      "source": [
        "beta = 0.5"
      ],
      "execution_count": 234,
      "outputs": []
    },
    {
      "cell_type": "code",
      "metadata": {
        "id": "DjvdPehKuV0t"
      },
      "source": [
        "### define the function\n",
        "def y(k):\n",
        "  y=A*np.power(k,beta)\n",
        "  return y"
      ],
      "execution_count": 235,
      "outputs": []
    },
    {
      "cell_type": "code",
      "metadata": {
        "id": "eFJ62CqxuUiz",
        "outputId": "a42692f0-5cbe-4789-af2b-38baf903c154",
        "colab": {
          "base_uri": "https://localhost:8080/"
        }
      },
      "source": [
        "## check the initial condition\n",
        "y(k0)"
      ],
      "execution_count": 236,
      "outputs": [
        {
          "output_type": "execute_result",
          "data": {
            "text/plain": [
              "20.0"
            ]
          },
          "metadata": {
            "tags": []
          },
          "execution_count": 236
        }
      ]
    },
    {
      "cell_type": "code",
      "metadata": {
        "id": "Y9ffYrhJuzgo"
      },
      "source": [
        "k = np.linspace(k0, 100)\n",
        "y=y(k)"
      ],
      "execution_count": 237,
      "outputs": []
    },
    {
      "cell_type": "code",
      "metadata": {
        "id": "-2pVX3TGu8qd",
        "outputId": "b0276674-b220-4d36-eaf8-f52c31faee0e",
        "colab": {
          "base_uri": "https://localhost:8080/",
          "height": 265
        }
      },
      "source": [
        "### plot the function\n",
        "import matplotlib.pyplot as plt\n",
        "\n",
        "plt.plot(k, y)\n",
        "plt.show()"
      ],
      "execution_count": 238,
      "outputs": [
        {
          "output_type": "display_data",
          "data": {
            "image/png": "[encoded data removed]",
            "text/plain": [
              "<Figure size 432x288 with 1 Axes>"
            ]
          },
          "metadata": {
            "tags": [],
            "needs_background": "light"
          }
        }
      ]
    },
    {
      "cell_type": "markdown",
      "metadata": {
        "id": "bg1Wb2-GvLd4"
      },
      "source": [
        "**Step 3: Solve for the steady State**\n",
        "Refers to Latex Symbol here: https://artofproblemsolving.com/wiki/index.php/LaTeX:Symbols\n",
        "\n",
        "$0=\\bigtriangleup k/k=s*y(k)-s*\\delta-n $\n"
      ]
    },
    {
      "cell_type": "markdown",
      "metadata": {
        "id": "ysgHOjd_yiXA"
      },
      "source": [
        "Plot $g(k)=s*A*k^{\\beta-1}$"
      ]
    },
    {
      "cell_type": "code",
      "metadata": {
        "id": "tshvg8UAyHZJ"
      },
      "source": [
        "def G(k):\n",
        "  g=s*A*np.power(k,beta-1)\n",
        "  return g"
      ],
      "execution_count": 239,
      "outputs": []
    },
    {
      "cell_type": "code",
      "metadata": {
        "id": "M8sVmHWGy1Z2",
        "outputId": "f2a94b4a-949d-4590-90a2-155291269107",
        "colab": {
          "base_uri": "https://localhost:8080/"
        }
      },
      "source": [
        "G(k0)"
      ],
      "execution_count": 240,
      "outputs": [
        {
          "output_type": "execute_result",
          "data": {
            "text/plain": [
              "3.5"
            ]
          },
          "metadata": {
            "tags": []
          },
          "execution_count": 240
        }
      ]
    },
    {
      "cell_type": "code",
      "metadata": {
        "id": "DhJej8sSy6z_"
      },
      "source": [
        "k = np.linspace(k0, 100)\n",
        "g1=G(k)"
      ],
      "execution_count": 241,
      "outputs": []
    },
    {
      "cell_type": "code",
      "metadata": {
        "id": "EnKvCmGzzHTg",
        "outputId": "0a180738-8a17-47e4-fb25-8201ec459a20",
        "colab": {
          "base_uri": "https://localhost:8080/",
          "height": 265
        }
      },
      "source": [
        "### plot the function\n",
        "import matplotlib.pyplot as plt\n",
        "\n",
        "plt.plot(k, g1)\n",
        "plt.show()"
      ],
      "execution_count": 242,
      "outputs": [
        {
          "output_type": "display_data",
          "data": {
            "image/png": "[encoded data removed]",
            "text/plain": [
              "<Figure size 432x288 with 1 Axes>"
            ]
          },
          "metadata": {
            "tags": [],
            "needs_background": "light"
          }
        }
      ]
    },
    {
      "cell_type": "code",
      "metadata": {
        "id": "BQ1rZQyQzLtr",
        "outputId": "f95d1198-0e9f-4842-fc99-71a56e6f0b21",
        "colab": {
          "base_uri": "https://localhost:8080/"
        }
      },
      "source": [
        "s*delta+n"
      ],
      "execution_count": 243,
      "outputs": [
        {
          "output_type": "execute_result",
          "data": {
            "text/plain": [
              "2.07"
            ]
          },
          "metadata": {
            "tags": []
          },
          "execution_count": 243
        }
      ]
    },
    {
      "cell_type": "code",
      "metadata": {
        "id": "WuT8kdFgzQgj",
        "outputId": "64713820-8533-4f1c-f843-387f369891ef",
        "colab": {
          "base_uri": "https://localhost:8080/",
          "height": 615
        }
      },
      "source": [
        "### plot the function\n",
        "import matplotlib.pyplot as plt\n",
        "fig= plt.figure(figsize=(20,10))\n",
        "\n",
        "plt.plot(k, g1)\n",
        "plt.axhline(y=s*delta+n)\n",
        "plt.xlabel('$k$',fontsize=20)\n",
        "plt.show()"
      ],
      "execution_count": 244,
      "outputs": [
        {
          "output_type": "display_data",
          "data": {
            "image/png": "[encoded data removed]",
            "text/plain": [
              "<Figure size 1440x720 with 1 Axes>"
            ]
          },
          "metadata": {
            "tags": [],
            "needs_background": "light"
          }
        }
      ]
    },
    {
      "cell_type": "markdown",
      "metadata": {
        "id": "qWlVODyy4LKn"
      },
      "source": [
        "### Solve for the steady state $k^{*}$"
      ]
    },
    {
      "cell_type": "code",
      "metadata": {
        "id": "qkh3d-800saG"
      },
      "source": [
        "from sympy.solvers import solve\n",
        "from sympy import Symbol\n",
        "k=Symbol('k')"
      ],
      "execution_count": 245,
      "outputs": []
    },
    {
      "cell_type": "code",
      "metadata": {
        "id": "W936ShPd3uNb",
        "outputId": "3984106a-1a20-4643-9ec2-04aeecb2f8d4",
        "colab": {
          "base_uri": "https://localhost:8080/"
        }
      },
      "source": [
        "k_steady=solve(s*A*np.power(k,beta)/k-s*delta-n,k)\n",
        "k_steady"
      ],
      "execution_count": 246,
      "outputs": [
        {
          "output_type": "execute_result",
          "data": {
            "text/plain": [
              "[11.4355060794884]"
            ]
          },
          "metadata": {
            "tags": []
          },
          "execution_count": 246
        }
      ]
    },
    {
      "cell_type": "markdown",
      "metadata": {
        "id": "Gawwt2KA5Xf8"
      },
      "source": [
        "**Step 4: Plot the Steady State Economy**"
      ]
    },
    {
      "cell_type": "code",
      "metadata": {
        "id": "NW1fBHMH5t3o",
        "outputId": "8a6a2e6c-326b-4f17-db7e-35280efe950c",
        "colab": {
          "base_uri": "https://localhost:8080/"
        }
      },
      "source": [
        "y_steady = A*np.power(k_steady,beta)\n",
        "y_steady"
      ],
      "execution_count": 247,
      "outputs": [
        {
          "output_type": "execute_result",
          "data": {
            "text/plain": [
              "array([33.8164251207729], dtype=object)"
            ]
          },
          "metadata": {
            "tags": []
          },
          "execution_count": 247
        }
      ]
    },
    {
      "cell_type": "code",
      "metadata": {
        "id": "-tB1_9zS3xuS"
      },
      "source": [
        "def Y(t):\n",
        "  Y = y_steady*L0*np.exp(n*t)\n",
        "  return Y"
      ],
      "execution_count": 248,
      "outputs": []
    },
    {
      "cell_type": "code",
      "metadata": {
        "id": "YUrVdZGr6Ji3"
      },
      "source": [
        "t = np.linspace(0, 10)\n",
        "Y=Y(t)"
      ],
      "execution_count": 249,
      "outputs": []
    },
    {
      "cell_type": "code",
      "metadata": {
        "id": "A40Z24lx6URG",
        "outputId": "893653e0-aa07-4485-8e62-4343a91c0912",
        "colab": {
          "base_uri": "https://localhost:8080/",
          "height": 602
        }
      },
      "source": [
        "### plot the function\n",
        "import matplotlib.pyplot as plt\n",
        "fig= plt.figure(figsize=(20,10))\n",
        "\n",
        "plt.plot(t, Y)\n",
        "plt.show()"
      ],
      "execution_count": 250,
      "outputs": [
        {
          "output_type": "display_data",
          "data": {
            "image/png": "[encoded data removed]",
            "text/plain": [
              "<Figure size 1440x720 with 1 Axes>"
            ]
          },
          "metadata": {
            "tags": [],
            "needs_background": "light"
          }
        }
      ]
    },
    {
      "cell_type": "markdown",
      "metadata": {
        "id": "hrJ4RCc2nKpy"
      },
      "source": [
        "#**Technology Growth**\n",
        "\n",
        "# $y=y(0)*e^{at}$, where a is growth rate of technology A"
      ]
    },
    {
      "cell_type": "code",
      "metadata": {
        "id": "HESqAWZTO7kc"
      },
      "source": [
        "def y(t):\n",
        "  y = y0*np.exp(a*t)\n",
        "  return y"
      ],
      "execution_count": 251,
      "outputs": []
    },
    {
      "cell_type": "code",
      "metadata": {
        "id": "-_b9AbHGnUQf"
      },
      "source": [
        "# when there is no technology growth a=0\n",
        "y0=y_steady\n",
        "a=0"
      ],
      "execution_count": 252,
      "outputs": []
    },
    {
      "cell_type": "code",
      "metadata": {
        "id": "B19yTwhznb_k"
      },
      "source": [
        "t = np.linspace(0, 10)\n",
        "y1 =y(t)"
      ],
      "execution_count": 253,
      "outputs": []
    },
    {
      "cell_type": "code",
      "metadata": {
        "id": "C8vmcvq3nnC0",
        "outputId": "60a3f955-62c9-488d-ffce-80d30ecf4af6",
        "colab": {
          "base_uri": "https://localhost:8080/",
          "height": 592
        }
      },
      "source": [
        "### plot the function\n",
        "import matplotlib.pyplot as plt\n",
        "fig= plt.figure(figsize=(20,10))\n",
        "\n",
        "plt.plot(t, y1)\n",
        "plt.show()"
      ],
      "execution_count": 254,
      "outputs": [
        {
          "output_type": "display_data",
          "data": {
            "image/png": "[encoded data removed]",
            "text/plain": [
              "<Figure size 1440x720 with 1 Axes>"
            ]
          },
          "metadata": {
            "tags": [],
            "needs_background": "light"
          }
        }
      ]
    },
    {
      "cell_type": "code",
      "metadata": {
        "id": "PRPwtCVUno6D"
      },
      "source": [
        "### when technology growth rate a =1\n",
        "y0=y_steady\n",
        "a=1"
      ],
      "execution_count": 255,
      "outputs": []
    },
    {
      "cell_type": "code",
      "metadata": {
        "id": "jwloBno5nwCz"
      },
      "source": [
        "t = np.linspace(0, 10)\n",
        "y2 =y(t)"
      ],
      "execution_count": 256,
      "outputs": []
    },
    {
      "cell_type": "code",
      "metadata": {
        "id": "AxHBGoxbn0FI",
        "outputId": "7d633443-12ed-4b94-96d3-3a3374a73849",
        "colab": {
          "base_uri": "https://localhost:8080/",
          "height": 601
        }
      },
      "source": [
        "### plot the function\n",
        "import matplotlib.pyplot as plt\n",
        "fig= plt.figure(figsize=(20,10))\n",
        "plt.plot(t,y1,label=\"a=0\")\n",
        "plt.plot(t,y2,label=\"a=1\")\n",
        "plt.legend()\n",
        "plt.title(\"Steady State GDP per Capital y with different technology growth rate a \", fontsize=16)\n",
        "plt.show()"
      ],
      "execution_count": 257,
      "outputs": [
        {
          "output_type": "display_data",
          "data": {
            "image/png": "[encoded data removed]",
            "text/plain": [
              "<Figure size 1440x720 with 1 Axes>"
            ]
          },
          "metadata": {
            "tags": [],
            "needs_background": "light"
          }
        }
      ]
    },
    {
      "cell_type": "code",
      "metadata": {
        "id": "KUfUHe1woETX"
      },
      "source": [
        ""
      ],
      "execution_count": 257,
      "outputs": []
    }
  ]
}